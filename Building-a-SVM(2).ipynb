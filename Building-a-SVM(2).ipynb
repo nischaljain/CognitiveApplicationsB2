{
 "cells": [
  {
   "cell_type": "code",
   "execution_count": 1,
   "id": "ebdb4064",
   "metadata": {},
   "outputs": [],
   "source": [
    "import numpy as np \n",
    "import pandas as pd \n",
    "import matplotlib.pyplot as plt\n",
    "from sklearn import datasets"
   ]
  },
  {
   "cell_type": "code",
   "execution_count": 5,
   "id": "7189ce13",
   "metadata": {},
   "outputs": [
    {
     "data": {
      "text/plain": [
       "array([-1,  1, -1,  1,  1,  1, -1, -1, -1, -1, -1, -1,  1, -1,  1,  1,  1,\n",
       "       -1, -1, -1,  1, -1, -1,  1, -1, -1, -1,  1, -1,  1,  1, -1, -1,  1,\n",
       "        1,  1, -1, -1, -1,  1, -1,  1, -1, -1,  1, -1, -1,  1,  1,  1,  1,\n",
       "       -1,  1, -1, -1,  1,  1, -1, -1,  1,  1, -1,  1,  1,  1,  1,  1, -1,\n",
       "        1, -1, -1,  1,  1, -1,  1, -1, -1, -1,  1,  1,  1,  1,  1, -1, -1,\n",
       "        1,  1, -1, -1, -1,  1, -1,  1, -1,  1,  1, -1,  1, -1,  1])"
      ]
     },
     "execution_count": 5,
     "metadata": {},
     "output_type": "execute_result"
    }
   ],
   "source": [
    "X,y = datasets.make_blobs(n_samples=100, n_features=2, centers=2, cluster_std=1.05, random_state = 50)\n",
    "y = np.where(y==0,-1,1)\n",
    "y"
   ]
  },
  {
   "cell_type": "code",
   "execution_count": 6,
   "id": "6d5e36bd",
   "metadata": {},
   "outputs": [
    {
     "data": {
      "text/plain": [
       "(100, 2)"
      ]
     },
     "execution_count": 6,
     "metadata": {},
     "output_type": "execute_result"
    }
   ],
   "source": [
    "X.shape"
   ]
  },
  {
   "cell_type": "code",
   "execution_count": 16,
   "id": "b1523ebe",
   "metadata": {},
   "outputs": [],
   "source": [
    "class SVM:\n",
    "    \n",
    "    def __init__(self,learning_rate = 0.001, lambda_param=0.01, iters=10000):\n",
    "        self.lr = learning_rate\n",
    "        self.lambda_param = lambda_param\n",
    "        self.iters = iters\n",
    "        self.w = None\n",
    "        self.b = None\n",
    "        \n",
    "    def fit(self, X, y):\n",
    "        y_ = np.where(y <= 0, -1, 1)\n",
    "        n_samples, n_features = X.shape\n",
    "        \n",
    "        self.w = np.zeros(n_features)\n",
    "        self.b = 0\n",
    "        \n",
    "        for i in range(self.iters):\n",
    "            for idx,x_i in enumerate(X):\n",
    "                condition = y_[idx] * (np.dot(x_i,self.w) - self.b) >= 1\n",
    "                if condition:\n",
    "                    self.w -= self.lr * ( 2 * self.lambda_param * self.w)\n",
    "                else:\n",
    "                    self.w -= self.lr * ( 2 * self.lambda_param * self.w - np.dot(x_i, y_[idx]))\n",
    "                    self.b -= self.lr * y_[idx]\n",
    "                    \n",
    "    def predict(self,X):\n",
    "        linear_out = np.dot(X,self.w) - self.b\n",
    "        return np.sign(linear_out)"
   ]
  },
  {
   "cell_type": "code",
   "execution_count": 17,
   "id": "8d04c916",
   "metadata": {},
   "outputs": [],
   "source": [
    "clf = SVM()\n",
    "clf.fit(X,y)"
   ]
  },
  {
   "cell_type": "code",
   "execution_count": 19,
   "id": "e275bea0",
   "metadata": {},
   "outputs": [
    {
     "name": "stdout",
     "output_type": "stream",
     "text": [
      "[-0.6799172   0.62583093] -0.9940000000000008\n"
     ]
    }
   ],
   "source": [
    "print(clf.w, clf.b)"
   ]
  },
  {
   "cell_type": "code",
   "execution_count": null,
   "id": "6f2bdcad",
   "metadata": {},
   "outputs": [],
   "source": []
  }
 ],
 "metadata": {
  "kernelspec": {
   "display_name": "Python 3 (ipykernel)",
   "language": "python",
   "name": "python3"
  },
  "language_info": {
   "codemirror_mode": {
    "name": "ipython",
    "version": 3
   },
   "file_extension": ".py",
   "mimetype": "text/x-python",
   "name": "python",
   "nbconvert_exporter": "python",
   "pygments_lexer": "ipython3",
   "version": "3.9.6"
  }
 },
 "nbformat": 4,
 "nbformat_minor": 5
}
