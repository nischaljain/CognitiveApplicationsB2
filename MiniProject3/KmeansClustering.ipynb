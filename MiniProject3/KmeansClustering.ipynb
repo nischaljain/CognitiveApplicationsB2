{
 "cells": [
  {
   "cell_type": "code",
   "execution_count": 6,
   "id": "275d00bd",
   "metadata": {},
   "outputs": [],
   "source": [
    "import pandas as pd\n",
    "import numpy as np\n",
    "import matplotlib.pyplot as plt\n",
    "from sklearn.cluster import KMeans\n",
    "%matplotlib inline"
   ]
  },
  {
   "cell_type": "code",
   "execution_count": 7,
   "id": "dc039695",
   "metadata": {},
   "outputs": [],
   "source": [
    "data = pd.read_csv(\"./income.csv\")\n",
    "df = pd.DataFrame(data)"
   ]
  },
  {
   "cell_type": "code",
   "execution_count": 94,
   "id": "b85bbcbd",
   "metadata": {},
   "outputs": [],
   "source": [
    "x = df.iloc[:,1] #converting Age column to X-axis data\n",
    "y = df.iloc[:,2] #converting Income column to Y-axis data\n",
    "K_data = df.iloc[:,1:3]"
   ]
  },
  {
   "cell_type": "code",
   "execution_count": 84,
   "id": "998b8733",
   "metadata": {},
   "outputs": [
    {
     "data": {
      "text/plain": [
       "<matplotlib.collections.PathCollection at 0x12d2b2a30>"
      ]
     },
     "execution_count": 84,
     "metadata": {},
     "output_type": "execute_result"
    },
    {
     "data": {
      "image/png": "[encoded data removed]",
      "text/plain": [
       "<Figure size 432x288 with 1 Axes>"
      ]
     },
     "metadata": {
      "needs_background": "light"
     },
     "output_type": "display_data"
    }
   ],
   "source": [
    "#creating a scatter plot\n",
    "plt.xlabel('Age')\n",
    "plt.ylabel('Income')\n",
    "plt.scatter(x,y)"
   ]
  },
  {
   "cell_type": "code",
   "execution_count": 124,
   "id": "808c1179",
   "metadata": {},
   "outputs": [
    {
     "data": {
      "text/plain": [
       "KMeans(n_clusters=3)"
      ]
     },
     "execution_count": 124,
     "metadata": {},
     "output_type": "execute_result"
    }
   ],
   "source": [
    "#we can observe there are 3 segments on the Scattered Plot, so we'll use 3 Clusters.\n",
    "Kmean = KMeans(n_clusters=3) \n",
    "Kmean.fit(K_data)"
   ]
  },
  {
   "cell_type": "code",
   "execution_count": 130,
   "id": "32ca1a0a",
   "metadata": {},
   "outputs": [
    {
     "data": {
      "text/html": [
       "<div>\n",
       "<style scoped>\n",
       "    .dataframe tbody tr th:only-of-type {\n",
       "        vertical-align: middle;\n",
       "    }\n",
       "\n",
       "    .dataframe tbody tr th {\n",
       "        vertical-align: top;\n",
       "    }\n",
       "\n",
       "    .dataframe thead th {\n",
       "        text-align: right;\n",
       "    }\n",
       "</style>\n",
       "<table border=\"1\" class=\"dataframe\">\n",
       "  <thead>\n",
       "    <tr style=\"text-align: right;\">\n",
       "      <th></th>\n",
       "      <th>Age</th>\n",
       "      <th>Income($)</th>\n",
       "      <th>cluster</th>\n",
       "    </tr>\n",
       "  </thead>\n",
       "  <tbody>\n",
       "    <tr>\n",
       "      <th>0</th>\n",
       "      <td>27</td>\n",
       "      <td>70000</td>\n",
       "      <td>2</td>\n",
       "    </tr>\n",
       "    <tr>\n",
       "      <th>1</th>\n",
       "      <td>29</td>\n",
       "      <td>90000</td>\n",
       "      <td>2</td>\n",
       "    </tr>\n",
       "    <tr>\n",
       "      <th>2</th>\n",
       "      <td>29</td>\n",
       "      <td>61000</td>\n",
       "      <td>0</td>\n",
       "    </tr>\n",
       "    <tr>\n",
       "      <th>3</th>\n",
       "      <td>28</td>\n",
       "      <td>60000</td>\n",
       "      <td>0</td>\n",
       "    </tr>\n",
       "    <tr>\n",
       "      <th>4</th>\n",
       "      <td>42</td>\n",
       "      <td>150000</td>\n",
       "      <td>1</td>\n",
       "    </tr>\n",
       "  </tbody>\n",
       "</table>\n",
       "</div>"
      ],
      "text/plain": [
       "   Age  Income($)  cluster\n",
       "0   27      70000        2\n",
       "1   29      90000        2\n",
       "2   29      61000        0\n",
       "3   28      60000        0\n",
       "4   42     150000        1"
      ]
     },
     "execution_count": 130,
     "metadata": {},
     "output_type": "execute_result"
    }
   ],
   "source": [
    "#fitting and predicting, using our model.\n",
    "predicted_y_values = Kmean.fit_predict(K_data)\n",
    "#appending these predicted values to our dataframe\n",
    "K_data['cluster'] = predicted_y_values\n",
    "K_data.head()\n",
    "#we need a way to visualise these seperate clusters distinctly on a Scatter Plot.\n",
    "#So we create seperate DataFrames for these clusters"
   ]
  },
  {
   "cell_type": "code",
   "execution_count": 135,
   "id": "6b841b1d",
   "metadata": {},
   "outputs": [
    {
     "data": {
      "text/plain": [
       "<matplotlib.legend.Legend at 0x12f17f2b0>"
      ]
     },
     "execution_count": 135,
     "metadata": {},
     "output_type": "execute_result"
    },
    {
     "data": {
      "image/png": "[encoded data removed]",
      "text/plain": [
       "<Figure size 432x288 with 1 Axes>"
      ]
     },
     "metadata": {
      "needs_background": "light"
     },
     "output_type": "display_data"
    }
   ],
   "source": [
    "#making a seperate dataframe for 3 seperate clusters\n",
    "df1 = K_data[K_data.cluster == 0]\n",
    "df2 = K_data[K_data.cluster == 1]\n",
    "df3 = K_data[K_data.cluster == 2]\n",
    "plt.xlabel('Age')\n",
    "plt.ylabel('Income')\n",
    "plt.scatter(df1.Age,df1['Income($)'],color='blue',label=\"cluster 1\")\n",
    "plt.scatter(df2.Age,df2['Income($)'],color='green',label=\"cluster 2\")\n",
    "plt.scatter(df3.Age,df3['Income($)'],color='red',label=\"cluster 3\")\n",
    "plt.legend()"
   ]
  },
  {
   "cell_type": "code",
   "execution_count": 138,
   "id": "13e332ff",
   "metadata": {},
   "outputs": [
    {
     "data": {
      "image/png": "[encoded data removed]",
      "text/plain": [
       "<IPython.core.display.Image object>"
      ]
     },
     "execution_count": 138,
     "metadata": {},
     "output_type": "execute_result"
    }
   ],
   "source": [
    "from IPython.display import Image\n",
    "Image(\"ambiguity.png\")\n",
    "#There's ambiguity in the Scatter Plot.\n",
    "#This resulted because of Improper Scaling of feature set.\n",
    "#We will have to resolve this before clustering."
   ]
  },
  {
   "cell_type": "code",
   "execution_count": 151,
   "id": "ece1b529",
   "metadata": {},
   "outputs": [
    {
     "data": {
      "text/html": [
       "<div>\n",
       "<style scoped>\n",
       "    .dataframe tbody tr th:only-of-type {\n",
       "        vertical-align: middle;\n",
       "    }\n",
       "\n",
       "    .dataframe tbody tr th {\n",
       "        vertical-align: top;\n",
       "    }\n",
       "\n",
       "    .dataframe thead th {\n",
       "        text-align: right;\n",
       "    }\n",
       "</style>\n",
       "<table border=\"1\" class=\"dataframe\">\n",
       "  <thead>\n",
       "    <tr style=\"text-align: right;\">\n",
       "      <th></th>\n",
       "      <th>Age</th>\n",
       "      <th>Income($)</th>\n",
       "      <th>cluster</th>\n",
       "    </tr>\n",
       "  </thead>\n",
       "  <tbody>\n",
       "    <tr>\n",
       "      <th>0</th>\n",
       "      <td>0.058824</td>\n",
       "      <td>0.213675</td>\n",
       "      <td>2</td>\n",
       "    </tr>\n",
       "    <tr>\n",
       "      <th>1</th>\n",
       "      <td>0.176471</td>\n",
       "      <td>0.384615</td>\n",
       "      <td>2</td>\n",
       "    </tr>\n",
       "    <tr>\n",
       "      <th>2</th>\n",
       "      <td>0.176471</td>\n",
       "      <td>0.136752</td>\n",
       "      <td>0</td>\n",
       "    </tr>\n",
       "    <tr>\n",
       "      <th>3</th>\n",
       "      <td>0.117647</td>\n",
       "      <td>0.128205</td>\n",
       "      <td>0</td>\n",
       "    </tr>\n",
       "    <tr>\n",
       "      <th>4</th>\n",
       "      <td>0.941176</td>\n",
       "      <td>0.897436</td>\n",
       "      <td>1</td>\n",
       "    </tr>\n",
       "  </tbody>\n",
       "</table>\n",
       "</div>"
      ],
      "text/plain": [
       "        Age  Income($)  cluster\n",
       "0  0.058824   0.213675        2\n",
       "1  0.176471   0.384615        2\n",
       "2  0.176471   0.136752        0\n",
       "3  0.117647   0.128205        0\n",
       "4  0.941176   0.897436        1"
      ]
     },
     "execution_count": 151,
     "metadata": {},
     "output_type": "execute_result"
    }
   ],
   "source": [
    "from sklearn.preprocessing import MinMaxScaler\n",
    "scaler = MinMaxScaler()\n",
    "\n",
    "\n",
    "scaler.fit(K_data[['Income($)']])\n",
    "K_data[['Income($)']] = scaler.transform(K_data[['Income($)']])\n",
    "\n",
    "scaler.fit(K_data[['Age']])\n",
    "K_data[['Age']] = scaler.transform(K_data[['Age']])\n",
    "\n",
    "K_data.head()"
   ]
  },
  {
   "cell_type": "code",
   "execution_count": 152,
   "id": "2f711479",
   "metadata": {},
   "outputs": [],
   "source": [
    "#Age and Income are both scaled between 0 and 1 now."
   ]
  },
  {
   "cell_type": "code",
   "execution_count": 155,
   "id": "b20dc218",
   "metadata": {},
   "outputs": [
    {
     "data": {
      "text/html": [
       "<div>\n",
       "<style scoped>\n",
       "    .dataframe tbody tr th:only-of-type {\n",
       "        vertical-align: middle;\n",
       "    }\n",
       "\n",
       "    .dataframe tbody tr th {\n",
       "        vertical-align: top;\n",
       "    }\n",
       "\n",
       "    .dataframe thead th {\n",
       "        text-align: right;\n",
       "    }\n",
       "</style>\n",
       "<table border=\"1\" class=\"dataframe\">\n",
       "  <thead>\n",
       "    <tr style=\"text-align: right;\">\n",
       "      <th></th>\n",
       "      <th>Age</th>\n",
       "      <th>Income($)</th>\n",
       "      <th>cluster</th>\n",
       "    </tr>\n",
       "  </thead>\n",
       "  <tbody>\n",
       "    <tr>\n",
       "      <th>0</th>\n",
       "      <td>0.058824</td>\n",
       "      <td>0.213675</td>\n",
       "      <td>1</td>\n",
       "    </tr>\n",
       "    <tr>\n",
       "      <th>1</th>\n",
       "      <td>0.176471</td>\n",
       "      <td>0.384615</td>\n",
       "      <td>1</td>\n",
       "    </tr>\n",
       "    <tr>\n",
       "      <th>2</th>\n",
       "      <td>0.176471</td>\n",
       "      <td>0.136752</td>\n",
       "      <td>1</td>\n",
       "    </tr>\n",
       "    <tr>\n",
       "      <th>3</th>\n",
       "      <td>0.117647</td>\n",
       "      <td>0.128205</td>\n",
       "      <td>1</td>\n",
       "    </tr>\n",
       "    <tr>\n",
       "      <th>4</th>\n",
       "      <td>0.941176</td>\n",
       "      <td>0.897436</td>\n",
       "      <td>0</td>\n",
       "    </tr>\n",
       "  </tbody>\n",
       "</table>\n",
       "</div>"
      ],
      "text/plain": [
       "        Age  Income($)  cluster\n",
       "0  0.058824   0.213675        1\n",
       "1  0.176471   0.384615        1\n",
       "2  0.176471   0.136752        1\n",
       "3  0.117647   0.128205        1\n",
       "4  0.941176   0.897436        0"
      ]
     },
     "execution_count": 155,
     "metadata": {},
     "output_type": "execute_result"
    }
   ],
   "source": [
    "#Training this new dataset\n",
    "Kmean = KMeans(n_clusters=3)\n",
    "predicted_y_values = Kmean.fit_predict(K_data[['Age','Income($)']])\n",
    "K_data['cluster'] = predicted_y_values\n",
    "K_data.head()"
   ]
  },
  {
   "cell_type": "code",
   "execution_count": 166,
   "id": "e650edd1",
   "metadata": {},
   "outputs": [
    {
     "data": {
      "text/plain": [
       "<matplotlib.legend.Legend at 0x12ebda850>"
      ]
     },
     "execution_count": 166,
     "metadata": {},
     "output_type": "execute_result"
    },
    {
     "data": {
      "image/png": "[encoded data removed]",
      "text/plain": [
       "<Figure size 432x288 with 1 Axes>"
      ]
     },
     "metadata": {
      "needs_background": "light"
     },
     "output_type": "display_data"
    }
   ],
   "source": [
    "#Plotting the scaled data on Scatter Plot \n",
    "\n",
    "df1 = K_data[K_data.cluster == 0]\n",
    "df2 = K_data[K_data.cluster == 1]\n",
    "df3 = K_data[K_data.cluster == 2]\n",
    "plt.xlabel('Age (Scaled between 0 and 1)')\n",
    "plt.ylabel('Income (Scaled between 0 and 1)')\n",
    "plt.scatter(df1.Age,df1['Income($)'],color='blue',label=\"cluster 0\")\n",
    "plt.scatter(df2.Age,df2['Income($)'],color='green',label=\"cluster 1\")\n",
    "plt.scatter(df3.Age,df3['Income($)'],color='red',label=\"cluster 2\")\n",
    "plt.legend()\n",
    "\n",
    "#With appropriate scaling of data, we have resolved the ambiguity."
   ]
  },
  {
   "cell_type": "code",
   "execution_count": 158,
   "id": "60e48b95",
   "metadata": {},
   "outputs": [
    {
     "data": {
      "text/plain": [
       "array([[0.72268908, 0.8974359 ],\n",
       "       [0.1372549 , 0.11633428],\n",
       "       [0.85294118, 0.2022792 ]])"
      ]
     },
     "execution_count": 158,
     "metadata": {},
     "output_type": "execute_result"
    }
   ],
   "source": [
    "#finding these clusters centers (Centroids)\n",
    "Kmean.cluster_centers_"
   ]
  },
  {
   "cell_type": "code",
   "execution_count": 167,
   "id": "02528214",
   "metadata": {},
   "outputs": [
    {
     "data": {
      "text/plain": [
       "<matplotlib.legend.Legend at 0x12ed22fa0>"
      ]
     },
     "execution_count": 167,
     "metadata": {},
     "output_type": "execute_result"
    },
    {
     "data": {
      "image/png": "[encoded data removed]",
      "text/plain": [
       "<Figure size 432x288 with 1 Axes>"
      ]
     },
     "metadata": {
      "needs_background": "light"
     },
     "output_type": "display_data"
    }
   ],
   "source": [
    "#plotting the Scaled Scatter Plots with Centroids\n",
    "df1 = K_data[K_data.cluster == 0]\n",
    "df2 = K_data[K_data.cluster == 1]\n",
    "df3 = K_data[K_data.cluster == 2]\n",
    "plt.xlabel('Age (Scaled between 0 and 1)')\n",
    "plt.ylabel('Income (Scaled between 0 and 1)')\n",
    "plt.scatter(df1.Age,df1['Income($)'],color='blue',label=\"cluster 0\")\n",
    "plt.scatter(df2.Age,df2['Income($)'],color='green',label=\"cluster 1\")\n",
    "plt.scatter(df3.Age,df3['Income($)'],color='red',label=\"cluster 2\")\n",
    "plt.scatter(0.72268908, 0.8974359, marker='s',c='b')\n",
    "plt.scatter(0.1372549 , 0.11633428, marker='s',c='g')\n",
    "plt.scatter(0.85294118, 0.2022792, marker='s',c='r')\n",
    "plt.legend()"
   ]
  },
  {
   "cell_type": "code",
   "execution_count": 168,
   "id": "9cc2b055",
   "metadata": {},
   "outputs": [
    {
     "data": {
      "text/plain": [
       "array([1, 1, 1, 1, 0, 0, 0, 0, 0, 0, 0, 1, 1, 1, 1, 1, 2, 2, 2, 2, 2, 2],\n",
       "      dtype=int32)"
      ]
     },
     "execution_count": 168,
     "metadata": {},
     "output_type": "execute_result"
    }
   ],
   "source": [
    "Kmean.labels_"
   ]
  },
  {
   "cell_type": "code",
   "execution_count": 169,
   "id": "f3a81ade",
   "metadata": {},
   "outputs": [],
   "source": [
    "#We infer\n",
    "# 7 data points belong to cluster 0 (Blue)\n",
    "# 9 data points belong to cluster 1 (Green)\n",
    "# 6 data points belong to cluster 2 (Red)"
   ]
  },
  {
   "cell_type": "code",
   "execution_count": null,
   "id": "d759e381",
   "metadata": {},
   "outputs": [],
   "source": []
  }
 ],
 "metadata": {
  "kernelspec": {
   "display_name": "Python 3 (ipykernel)",
   "language": "python",
   "name": "python3"
  },
  "language_info": {
   "codemirror_mode": {
    "name": "ipython",
    "version": 3
   },
   "file_extension": ".py",
   "mimetype": "text/x-python",
   "name": "python",
   "nbconvert_exporter": "python",
   "pygments_lexer": "ipython3",
   "version": "3.9.6"
  }
 },
 "nbformat": 4,
 "nbformat_minor": 5
}
